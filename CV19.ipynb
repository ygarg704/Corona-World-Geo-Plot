{
 "cells": [
  {
   "cell_type": "code",
   "execution_count": 1,
   "metadata": {},
   "outputs": [],
   "source": [
    "import pandas as pd\n",
    "from bokeh.io import curdoc, output_file, show\n",
    "from bokeh.models import ColumnDataSource, HoverTool, Select\n",
    "from bokeh.plotting import figure\n",
    "from bokeh.layouts import row, widgetbox"
   ]
  },
  {
   "cell_type": "code",
   "execution_count": 2,
   "metadata": {},
   "outputs": [],
   "source": [
    "deaths_url = \"https://raw.githubusercontent.com/datasets/covid-19/master/data/countries-aggregated.csv\"\n",
    "ds = pd.read_csv(deaths_url)"
   ]
  },
  {
   "cell_type": "code",
   "execution_count": 25,
   "metadata": {},
   "outputs": [
    {
     "data": {
      "text/html": [
       "<div>\n",
       "<style scoped>\n",
       "    .dataframe tbody tr th:only-of-type {\n",
       "        vertical-align: middle;\n",
       "    }\n",
       "\n",
       "    .dataframe tbody tr th {\n",
       "        vertical-align: top;\n",
       "    }\n",
       "\n",
       "    .dataframe thead th {\n",
       "        text-align: right;\n",
       "    }\n",
       "</style>\n",
       "<table border=\"1\" class=\"dataframe\">\n",
       "  <thead>\n",
       "    <tr style=\"text-align: right;\">\n",
       "      <th></th>\n",
       "      <th>Date</th>\n",
       "      <th>Country</th>\n",
       "      <th>Confirmed</th>\n",
       "      <th>Recovered</th>\n",
       "      <th>Deaths</th>\n",
       "    </tr>\n",
       "  </thead>\n",
       "  <tbody>\n",
       "    <tr>\n",
       "      <th>0</th>\n",
       "      <td>2020-01-22</td>\n",
       "      <td>Afghanistan</td>\n",
       "      <td>0</td>\n",
       "      <td>0</td>\n",
       "      <td>0</td>\n",
       "    </tr>\n",
       "    <tr>\n",
       "      <th>1</th>\n",
       "      <td>2020-01-22</td>\n",
       "      <td>Albania</td>\n",
       "      <td>0</td>\n",
       "      <td>0</td>\n",
       "      <td>0</td>\n",
       "    </tr>\n",
       "    <tr>\n",
       "      <th>2</th>\n",
       "      <td>2020-01-22</td>\n",
       "      <td>Algeria</td>\n",
       "      <td>0</td>\n",
       "      <td>0</td>\n",
       "      <td>0</td>\n",
       "    </tr>\n",
       "    <tr>\n",
       "      <th>3</th>\n",
       "      <td>2020-01-22</td>\n",
       "      <td>Andorra</td>\n",
       "      <td>0</td>\n",
       "      <td>0</td>\n",
       "      <td>0</td>\n",
       "    </tr>\n",
       "    <tr>\n",
       "      <th>4</th>\n",
       "      <td>2020-01-22</td>\n",
       "      <td>Angola</td>\n",
       "      <td>0</td>\n",
       "      <td>0</td>\n",
       "      <td>0</td>\n",
       "    </tr>\n",
       "  </tbody>\n",
       "</table>\n",
       "</div>"
      ],
      "text/plain": [
       "        Date      Country  Confirmed  Recovered  Deaths\n",
       "0 2020-01-22  Afghanistan          0          0       0\n",
       "1 2020-01-22      Albania          0          0       0\n",
       "2 2020-01-22      Algeria          0          0       0\n",
       "3 2020-01-22      Andorra          0          0       0\n",
       "4 2020-01-22       Angola          0          0       0"
      ]
     },
     "execution_count": 25,
     "metadata": {},
     "output_type": "execute_result"
    }
   ],
   "source": [
    "ds[\"Date\"] = pd.to_datetime(ds[\"Date\"])\n",
    "countries = ds.Country.values\n",
    "ds.head()"
   ]
  },
  {
   "cell_type": "code",
   "execution_count": 29,
   "metadata": {},
   "outputs": [],
   "source": [
    "import numpy as np\n",
    "countries = np.unique(countries).tolist()"
   ]
  },
  {
   "cell_type": "code",
   "execution_count": 30,
   "metadata": {},
   "outputs": [],
   "source": [
    "def subset_source(country):\n",
    "    mask = ds['Country'] == country\n",
    "    ds_sub = ds[mask].reset_index()\n",
    "    \n",
    "    source = ColumnDataSource(data={\n",
    "        'date' : ds_sub.Date,\n",
    "        'country' : ds_sub.Country,\n",
    "        'confirmed' : ds_sub.Confirmed,\n",
    "        'recovered' : ds_sub.Recovered,\n",
    "        'dead' : ds_sub.Deaths\n",
    "    })\n",
    "    \n",
    "    return source, ds_sub"
   ]
  },
  {
   "cell_type": "code",
   "execution_count": 31,
   "metadata": {},
   "outputs": [
    {
     "data": {
      "text/html": [
       "<div style=\"display: table;\"><div style=\"display: table-row;\"><div style=\"display: table-cell;\"><b title=\"bokeh.models.renderers.GlyphRenderer\">GlyphRenderer</b>(</div><div style=\"display: table-cell;\">id&nbsp;=&nbsp;'1417', <span id=\"1420\" style=\"cursor: pointer;\">&hellip;)</span></div></div><div class=\"1419\" style=\"display: none;\"><div style=\"display: table-cell;\"></div><div style=\"display: table-cell;\">data_source&nbsp;=&nbsp;ColumnDataSource(id='1368', ...),</div></div><div class=\"1419\" style=\"display: none;\"><div style=\"display: table-cell;\"></div><div style=\"display: table-cell;\">glyph&nbsp;=&nbsp;Line(id='1415', ...),</div></div><div class=\"1419\" style=\"display: none;\"><div style=\"display: table-cell;\"></div><div style=\"display: table-cell;\">hover_glyph&nbsp;=&nbsp;None,</div></div><div class=\"1419\" style=\"display: none;\"><div style=\"display: table-cell;\"></div><div style=\"display: table-cell;\">js_event_callbacks&nbsp;=&nbsp;{},</div></div><div class=\"1419\" style=\"display: none;\"><div style=\"display: table-cell;\"></div><div style=\"display: table-cell;\">js_property_callbacks&nbsp;=&nbsp;{},</div></div><div class=\"1419\" style=\"display: none;\"><div style=\"display: table-cell;\"></div><div style=\"display: table-cell;\">level&nbsp;=&nbsp;'glyph',</div></div><div class=\"1419\" style=\"display: none;\"><div style=\"display: table-cell;\"></div><div style=\"display: table-cell;\">muted&nbsp;=&nbsp;False,</div></div><div class=\"1419\" style=\"display: none;\"><div style=\"display: table-cell;\"></div><div style=\"display: table-cell;\">muted_glyph&nbsp;=&nbsp;None,</div></div><div class=\"1419\" style=\"display: none;\"><div style=\"display: table-cell;\"></div><div style=\"display: table-cell;\">name&nbsp;=&nbsp;None,</div></div><div class=\"1419\" style=\"display: none;\"><div style=\"display: table-cell;\"></div><div style=\"display: table-cell;\">nonselection_glyph&nbsp;=&nbsp;Line(id='1416', ...),</div></div><div class=\"1419\" style=\"display: none;\"><div style=\"display: table-cell;\"></div><div style=\"display: table-cell;\">selection_glyph&nbsp;=&nbsp;None,</div></div><div class=\"1419\" style=\"display: none;\"><div style=\"display: table-cell;\"></div><div style=\"display: table-cell;\">subscribed_events&nbsp;=&nbsp;[],</div></div><div class=\"1419\" style=\"display: none;\"><div style=\"display: table-cell;\"></div><div style=\"display: table-cell;\">tags&nbsp;=&nbsp;[],</div></div><div class=\"1419\" style=\"display: none;\"><div style=\"display: table-cell;\"></div><div style=\"display: table-cell;\">view&nbsp;=&nbsp;CDSView(id='1418', ...),</div></div><div class=\"1419\" style=\"display: none;\"><div style=\"display: table-cell;\"></div><div style=\"display: table-cell;\">visible&nbsp;=&nbsp;True,</div></div><div class=\"1419\" style=\"display: none;\"><div style=\"display: table-cell;\"></div><div style=\"display: table-cell;\">x_range_name&nbsp;=&nbsp;'default',</div></div><div class=\"1419\" style=\"display: none;\"><div style=\"display: table-cell;\"></div><div style=\"display: table-cell;\">y_range_name&nbsp;=&nbsp;'default')</div></div></div>\n",
       "<script>\n",
       "(function() {\n",
       "  var expanded = false;\n",
       "  var ellipsis = document.getElementById(\"1420\");\n",
       "  ellipsis.addEventListener(\"click\", function() {\n",
       "    var rows = document.getElementsByClassName(\"1419\");\n",
       "    for (var i = 0; i < rows.length; i++) {\n",
       "      var el = rows[i];\n",
       "      el.style.display = expanded ? \"none\" : \"table-row\";\n",
       "    }\n",
       "    ellipsis.innerHTML = expanded ? \"&hellip;)\" : \"&lsaquo;&lsaquo;&lsaquo;\";\n",
       "    expanded = !expanded;\n",
       "  });\n",
       "})();\n",
       "</script>\n"
      ],
      "text/plain": [
       "GlyphRenderer(id='1417', ...)"
      ]
     },
     "execution_count": 31,
     "metadata": {},
     "output_type": "execute_result"
    }
   ],
   "source": [
    "selectedCountry = \"India\"\n",
    "\n",
    "source, ds_sub = subset_source(selectedCountry)\n",
    "\n",
    "plot = figure(title = selectedCountry, x_axis_label = 'Dates', y_axis_label = 'Cases Count', x_axis_type = 'datetime', plot_width=700, plot_height=700)\n",
    "\n",
    "output_file('graph.html')\n",
    "\n",
    "select = Select(title=\"Country : \", value=\"India\", options=countries)\n",
    "\n",
    "plot.line(x = 'date', y = 'confirmed', source = source, color = 'blue')\n",
    "plot.line(x = 'date', y = 'recovered', source = source, color = 'green')\n",
    "plot.line(x = 'date', y = 'dead', source = source, color = 'red')"
   ]
  },
  {
   "cell_type": "code",
   "execution_count": 6,
   "metadata": {},
   "outputs": [],
   "source": [
    "hover = HoverTool(tooltips = [('Confirmed', '@confirmed'), ('Recovered', '@recovered'), ('Deceased', '@dead')])\n",
    "plot.add_tools(hover)"
   ]
  },
  {
   "cell_type": "code",
   "execution_count": 7,
   "metadata": {},
   "outputs": [],
   "source": [
    "layout = row(widgetbox(select), plot)"
   ]
  },
  {
   "cell_type": "code",
   "execution_count": 8,
   "metadata": {},
   "outputs": [],
   "source": [
    "show(layout)"
   ]
  },
  {
   "cell_type": "code",
   "execution_count": 19,
   "metadata": {},
   "outputs": [
    {
     "data": {
      "text/plain": [
       "array(['India', 'India', 'India', 'India', 'India', 'India', 'India',\n",
       "       'India', 'India', 'India', 'India', 'India', 'India', 'India',\n",
       "       'India', 'India', 'India', 'India', 'India', 'India', 'India',\n",
       "       'India', 'India', 'India', 'India', 'India', 'India', 'India',\n",
       "       'India', 'India', 'India', 'India', 'India', 'India', 'India',\n",
       "       'India', 'India', 'India', 'India', 'India', 'India', 'India',\n",
       "       'India', 'India', 'India', 'India', 'India', 'India', 'India',\n",
       "       'India', 'India', 'India', 'India', 'India', 'India', 'India',\n",
       "       'India', 'India', 'India', 'India', 'India', 'India', 'India',\n",
       "       'India', 'India', 'India', 'India', 'India', 'India', 'India',\n",
       "       'India', 'India', 'India', 'India', 'India', 'India', 'India',\n",
       "       'India', 'India', 'India', 'India', 'India', 'India', 'India',\n",
       "       'India', 'India', 'India', 'India', 'India', 'India', 'India',\n",
       "       'India', 'India', 'India', 'India', 'India', 'India', 'India',\n",
       "       'India', 'India', 'India', 'India', 'India', 'India', 'India',\n",
       "       'India', 'India', 'India', 'India', 'India', 'India', 'India',\n",
       "       'India', 'India', 'India', 'India', 'India', 'India', 'India',\n",
       "       'India', 'India', 'India', 'India', 'India', 'India', 'India',\n",
       "       'India', 'India', 'India', 'India', 'India', 'India', 'India',\n",
       "       'India', 'India', 'India', 'India', 'India', 'India', 'India',\n",
       "       'India', 'India', 'India', 'India', 'India', 'India', 'India',\n",
       "       'India', 'India', 'India', 'India', 'India', 'India', 'India',\n",
       "       'India', 'India', 'India', 'India', 'India', 'India', 'India',\n",
       "       'India', 'India', 'India', 'India', 'India', 'India', 'India',\n",
       "       'India', 'India', 'India', 'India', 'India'], dtype=object)"
      ]
     },
     "execution_count": 19,
     "metadata": {},
     "output_type": "execute_result"
    }
   ],
   "source": [
    "countries"
   ]
  },
  {
   "cell_type": "code",
   "execution_count": null,
   "metadata": {},
   "outputs": [],
   "source": []
  },
  {
   "cell_type": "code",
   "execution_count": null,
   "metadata": {},
   "outputs": [],
   "source": []
  },
  {
   "cell_type": "code",
   "execution_count": null,
   "metadata": {},
   "outputs": [],
   "source": []
  }
 ],
 "metadata": {
  "kernelspec": {
   "display_name": "Python 3",
   "language": "python",
   "name": "python3"
  },
  "language_info": {
   "codemirror_mode": {
    "name": "ipython",
    "version": 3
   },
   "file_extension": ".py",
   "mimetype": "text/x-python",
   "name": "python",
   "nbconvert_exporter": "python",
   "pygments_lexer": "ipython3",
   "version": "3.7.6"
  }
 },
 "nbformat": 4,
 "nbformat_minor": 4
}
