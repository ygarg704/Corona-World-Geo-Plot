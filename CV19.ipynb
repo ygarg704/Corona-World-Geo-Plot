{
 "cells": [
  {
   "cell_type": "code",
   "execution_count": 1,
   "metadata": {},
   "outputs": [],
   "source": [
    "import pandas as pd\n",
    "import numpy as np\n",
    "from bokeh.io import curdoc, output_file, show\n",
    "from bokeh.models import ColumnDataSource, HoverTool, Select\n",
    "from bokeh.plotting import figure\n",
    "from bokeh.layouts import row, widgetbox"
   ]
  },
  {
   "cell_type": "code",
   "execution_count": 2,
   "metadata": {},
   "outputs": [
    {
     "data": {
      "text/html": [
       "<div>\n",
       "<style scoped>\n",
       "    .dataframe tbody tr th:only-of-type {\n",
       "        vertical-align: middle;\n",
       "    }\n",
       "\n",
       "    .dataframe tbody tr th {\n",
       "        vertical-align: top;\n",
       "    }\n",
       "\n",
       "    .dataframe thead th {\n",
       "        text-align: right;\n",
       "    }\n",
       "</style>\n",
       "<table border=\"1\" class=\"dataframe\">\n",
       "  <thead>\n",
       "    <tr style=\"text-align: right;\">\n",
       "      <th></th>\n",
       "      <th>Date</th>\n",
       "      <th>Country</th>\n",
       "      <th>Confirmed</th>\n",
       "      <th>Recovered</th>\n",
       "      <th>Deaths</th>\n",
       "    </tr>\n",
       "  </thead>\n",
       "  <tbody>\n",
       "    <tr>\n",
       "      <td>35151</td>\n",
       "      <td>2020-07-26</td>\n",
       "      <td>West Bank and Gaza</td>\n",
       "      <td>10469</td>\n",
       "      <td>3752</td>\n",
       "      <td>76</td>\n",
       "    </tr>\n",
       "    <tr>\n",
       "      <td>35152</td>\n",
       "      <td>2020-07-26</td>\n",
       "      <td>Western Sahara</td>\n",
       "      <td>10</td>\n",
       "      <td>8</td>\n",
       "      <td>1</td>\n",
       "    </tr>\n",
       "    <tr>\n",
       "      <td>35153</td>\n",
       "      <td>2020-07-26</td>\n",
       "      <td>Yemen</td>\n",
       "      <td>1681</td>\n",
       "      <td>797</td>\n",
       "      <td>479</td>\n",
       "    </tr>\n",
       "    <tr>\n",
       "      <td>35154</td>\n",
       "      <td>2020-07-26</td>\n",
       "      <td>Zambia</td>\n",
       "      <td>4481</td>\n",
       "      <td>2350</td>\n",
       "      <td>139</td>\n",
       "    </tr>\n",
       "    <tr>\n",
       "      <td>35155</td>\n",
       "      <td>2020-07-26</td>\n",
       "      <td>Zimbabwe</td>\n",
       "      <td>2512</td>\n",
       "      <td>518</td>\n",
       "      <td>34</td>\n",
       "    </tr>\n",
       "  </tbody>\n",
       "</table>\n",
       "</div>"
      ],
      "text/plain": [
       "            Date             Country  Confirmed  Recovered  Deaths\n",
       "35151 2020-07-26  West Bank and Gaza      10469       3752      76\n",
       "35152 2020-07-26      Western Sahara         10          8       1\n",
       "35153 2020-07-26               Yemen       1681        797     479\n",
       "35154 2020-07-26              Zambia       4481       2350     139\n",
       "35155 2020-07-26            Zimbabwe       2512        518      34"
      ]
     },
     "execution_count": 2,
     "metadata": {},
     "output_type": "execute_result"
    }
   ],
   "source": [
    "deaths_url = \"https://raw.githubusercontent.com/datasets/covid-19/master/data/countries-aggregated.csv\"\n",
    "ds = pd.read_csv(deaths_url)\n",
    "\n",
    "ds[\"Date\"] = pd.to_datetime(ds[\"Date\"])\n",
    "\n",
    "countries = ds.Country.values\n",
    "countries = np.unique(countries).tolist()\n",
    "ds.tail()"
   ]
  },
  {
   "cell_type": "code",
   "execution_count": 3,
   "metadata": {},
   "outputs": [
    {
     "data": {
      "text/html": [
       "<div>\n",
       "<style scoped>\n",
       "    .dataframe tbody tr th:only-of-type {\n",
       "        vertical-align: middle;\n",
       "    }\n",
       "\n",
       "    .dataframe tbody tr th {\n",
       "        vertical-align: top;\n",
       "    }\n",
       "\n",
       "    .dataframe thead th {\n",
       "        text-align: right;\n",
       "    }\n",
       "</style>\n",
       "<table border=\"1\" class=\"dataframe\">\n",
       "  <thead>\n",
       "    <tr style=\"text-align: right;\">\n",
       "      <th></th>\n",
       "      <th>country</th>\n",
       "      <th>country_code</th>\n",
       "      <th>geometry</th>\n",
       "    </tr>\n",
       "  </thead>\n",
       "  <tbody>\n",
       "    <tr>\n",
       "      <td>0</td>\n",
       "      <td>Fiji</td>\n",
       "      <td>FJI</td>\n",
       "      <td>MULTIPOLYGON (((180.00000 -16.06713, 180.00000...</td>\n",
       "    </tr>\n",
       "    <tr>\n",
       "      <td>1</td>\n",
       "      <td>United Republic of Tanzania</td>\n",
       "      <td>TZA</td>\n",
       "      <td>POLYGON ((33.90371 -0.95000, 34.07262 -1.05982...</td>\n",
       "    </tr>\n",
       "  </tbody>\n",
       "</table>\n",
       "</div>"
      ],
      "text/plain": [
       "                       country country_code  \\\n",
       "0                         Fiji          FJI   \n",
       "1  United Republic of Tanzania          TZA   \n",
       "\n",
       "                                            geometry  \n",
       "0  MULTIPOLYGON (((180.00000 -16.06713, 180.00000...  \n",
       "1  POLYGON ((33.90371 -0.95000, 34.07262 -1.05982...  "
      ]
     },
     "execution_count": 3,
     "metadata": {},
     "output_type": "execute_result"
    }
   ],
   "source": [
    "import geopandas as gpd\n",
    "\n",
    "shapefile = 'shapefiles/ne_110m_admin_0_countries.shp'\n",
    "gdf = gpd.read_file(shapefile)[['ADMIN', 'ADM0_A3', 'geometry']]\n",
    "\n",
    "gdf.columns = ['country', 'country_code', 'geometry']\n",
    "gdf = gdf.drop(gdf.index[159]) # Drop Antarctica\n",
    "\n",
    "gdfCountries = gdf.country.values\n",
    "\n",
    "gdf.head(2)"
   ]
  },
  {
   "cell_type": "code",
   "execution_count": 4,
   "metadata": {},
   "outputs": [
    {
     "name": "stdout",
     "output_type": "stream",
     "text": [
      "Missing values in gdfCountries: {'Diamond Princess', 'Congo (Kinshasa)', 'Timor-Leste', 'Holy See', 'Liechtenstein', 'Bahrain', \"Cote d'Ivoire\", 'Malta', 'Saint Kitts and Nevis', 'North Macedonia', 'Grenada', 'Korea, South', 'Serbia', 'Sao Tome and Principe', 'Eswatini', 'Monaco', 'Antigua and Barbuda', 'Mauritius', 'Bahamas', 'Comoros', 'Singapore', 'Taiwan*', 'Saint Vincent and the Grenadines', 'West Bank and Gaza', 'Maldives', 'Barbados', 'Burma', 'MS Zaandam', 'Andorra', 'Seychelles', 'Dominica', 'Tanzania', 'Cabo Verde', 'San Marino', 'Congo (Brazzaville)', 'US', 'Saint Lucia'}\n",
      "Missing values in countries: {'Northern Cyprus', 'Somaliland', 'Turkmenistan', 'East Timor', 'Vanuatu', 'United States of America', 'Ivory Coast', 'Palestine', 'Falkland Islands', 'United Republic of Tanzania', 'North Korea', 'Puerto Rico', 'Macedonia', 'Republic of the Congo', 'Taiwan', 'Republic of Serbia', 'New Caledonia', 'South Korea', 'Democratic Republic of the Congo', 'The Bahamas', 'eSwatini', 'French Southern and Antarctic Lands', 'Solomon Islands', 'Greenland', 'Myanmar'}\n"
     ]
    }
   ],
   "source": [
    "# prints the missing and additional elements in list2  \n",
    "print(\"Missing values in gdfCountries:\", (set(countries).difference(gdfCountries))) \n",
    "  \n",
    "# prints the missing and additional elements in list1 \n",
    "print(\"Missing values in countries:\", (set(gdfCountries).difference(countries))) "
   ]
  },
  {
   "cell_type": "code",
   "execution_count": 5,
   "metadata": {},
   "outputs": [],
   "source": [
    "ds.replace(to_replace =\"US\", value =\"United States of America\", inplace = True) \n",
    "ds.replace(to_replace =\"Congo (Kinshasa)\", value =\"Democratic Republic of the Congo\", inplace = True) \n",
    "ds.replace(to_replace =\"Congo (Brazzaville)\", value =\"Republic of the Congo\", inplace = True) \n",
    "ds.replace(to_replace =\"Cote d'Ivoire\", value =\"Ivory Coast\", inplace = True) \n",
    "ds.replace(to_replace =\"Taiwan*\", value =\"Taiwan\", inplace = True) \n",
    "ds.replace(to_replace =\"Tanzania\", value =\"United Republic of Tanzania\", inplace = True) \n",
    "ds.replace(to_replace =\"Burma\", value =\"Myanmar\", inplace = True) \n",
    "ds.replace(to_replace =\"Bahamas\", value =\"The Bahamas\", inplace = True) \n",
    "ds.replace(to_replace =\"Serbia\", value =\"Republic of Serbia\", inplace = True) \n",
    "ds.replace(to_replace =\"Timor-Leste\", value =\"East Timor\", inplace = True) \n",
    "ds.replace(to_replace =\"Korea, South\", value =\"South Korea\", inplace = True) \n",
    "ds.replace(to_replace =\"North Macedonia\", value =\"Macedonia\", inplace = True) \n",
    "\n",
    "countries = ds.Country.values\n",
    "countries = np.unique(countries).tolist()"
   ]
  },
  {
   "cell_type": "code",
   "execution_count": 6,
   "metadata": {},
   "outputs": [],
   "source": [
    "def subset_source(country):\n",
    "    mask = ds['Country'] == country\n",
    "    ds_sub = ds[mask].reset_index()\n",
    "    \n",
    "    source = ColumnDataSource(data={\n",
    "        'date' : ds_sub.Date,\n",
    "        'country' : ds_sub.Country,\n",
    "        'confirmed' : ds_sub.Confirmed,\n",
    "        'recovered' : ds_sub.Recovered,\n",
    "        'dead' : ds_sub.Deaths\n",
    "    })\n",
    "    \n",
    "    return source, ds_sub"
   ]
  },
  {
   "cell_type": "code",
   "execution_count": 7,
   "metadata": {},
   "outputs": [],
   "source": [
    "selectedCountry = \"India\"\n",
    "source, ds_sub = subset_source(selectedCountry)\n",
    "\n",
    "plot = figure(title = selectedCountry, x_axis_label = 'Dates', y_axis_label = 'Cases Count', x_axis_type = 'datetime', plot_width=700, plot_height=700)\n",
    "\n",
    "output_file('graph.html')\n",
    "\n",
    "select = Select(title=\"Country : \", value=\"India\", options=countries)\n",
    "\n",
    "plot.line(x = 'date', y = 'confirmed', source = source, color = 'blue')\n",
    "plot.line(x = 'date', y = 'recovered', source = source, color = 'green')\n",
    "plot.line(x = 'date', y = 'dead', source = source, color = 'red')\n",
    "\n",
    "hover = HoverTool(tooltips = [('Confirmed', '@confirmed'), ('Recovered', '@recovered'), ('Deceased', '@dead')])\n",
    "plot.add_tools(hover)\n",
    "\n",
    "layout = row(widgetbox(select), plot)\n",
    "show(layout)"
   ]
  },
  {
   "cell_type": "code",
   "execution_count": 8,
   "metadata": {},
   "outputs": [],
   "source": [
    "def subset_source_map(date):\n",
    "    dateSub = ds[ds['Date'] == date]\n",
    " \n",
    "    source = ColumnDataSource(data={\n",
    "        'date' : dateSub.Date,\n",
    "        'country' : dateSub.Country,\n",
    "        'confirmed' : dateSub.Confirmed,\n",
    "        'recovered' : dateSub.Recovered,\n",
    "        'dead' : dateSub.Deaths\n",
    "    })\n",
    "    \n",
    "    return source, dateSub"
   ]
  },
  {
   "cell_type": "code",
   "execution_count": 22,
   "metadata": {},
   "outputs": [],
   "source": [
    "import json\n",
    "from datetime import datetime\n",
    "\n",
    "selectedDate = '2020-06-22'\n",
    "source, dateSub = subset_source_map(selectedDate)\n",
    "\n",
    "merged = gdf.merge(dateSub, left_on = 'country', right_on = 'Country', how = 'left')\n",
    "merged['Date'] = merged['Date'].dt.strftime('%Y-%m-%d')\n",
    "\n",
    "merged_json = json.loads(merged.to_json()) # Read data to JSON\n",
    "json_data = json.dumps(merged_json)"
   ]
  },
  {
   "cell_type": "code",
   "execution_count": 28,
   "metadata": {},
   "outputs": [],
   "source": [
    "from bokeh.io import show\n",
    "from bokeh.plotting import figure\n",
    "from bokeh.models import GeoJSONDataSource, LinearColorMapper, ColorBar\n",
    "from bokeh.palettes import brewer\n",
    "\n",
    "geosource = GeoJSONDataSource(geojson = json_data)\n",
    "\n",
    "palette = brewer[\"YlGnBu\"][6]\n",
    "palette = palette[::-1]\n",
    "\n",
    "color_mapper = LinearColorMapper(palette = palette, low = dateSub['Confirmed'].min(), \n",
    "                                 high = (dateSub['Confirmed'].max()/3.5), nan_color = '#d9d9d9')\n",
    "\n",
    "hover = HoverTool(tooltips = [ ('Country','@Country'),('Confirmed Cases','@Confirmed')])\n",
    "\n",
    "color_bar = ColorBar(color_mapper=color_mapper, label_standoff=8,width = 500, height = 20,\n",
    "border_line_color= None,location = (0,0), orientation = 'horizontal', major_label_overrides = tick_labels)\n",
    "\n",
    "p = figure(title = 'Number of COVID-19 cases', plot_height = 600 , plot_width = 1200, toolbar_location = None, tools = [hover])\n",
    "p.xgrid.grid_line_color = None\n",
    "p.ygrid.grid_line_color = None\n",
    "\n",
    "#Add patch renderer to figure.\n",
    "p.patches('xs', 'ys', source = geosource, fill_color = {'field' :'Confirmed', 'transform' : color_mapper}, \n",
    "          line_color = 'black', line_width = 0.25, fill_alpha = 1)\n",
    "\n",
    "#Specify layout\n",
    "p.add_layout(color_bar, 'below')\n",
    "\n",
    "show(p)"
   ]
  }
 ],
 "metadata": {
  "kernelspec": {
   "display_name": "Python 3",
   "language": "python",
   "name": "python3"
  },
  "language_info": {
   "codemirror_mode": {
    "name": "ipython",
    "version": 3
   },
   "file_extension": ".py",
   "mimetype": "text/x-python",
   "name": "python",
   "nbconvert_exporter": "python",
   "pygments_lexer": "ipython3",
   "version": "3.7.6"
  }
 },
 "nbformat": 4,
 "nbformat_minor": 4
}
